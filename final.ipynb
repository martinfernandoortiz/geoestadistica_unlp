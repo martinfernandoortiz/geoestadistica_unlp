{
 "cells": [
  {
   "cell_type": "markdown",
   "id": "a13faeb7-1e57-43bc-ae92-5dbae5b313e1",
   "metadata": {
    "tags": []
   },
   "source": [
    "***\n",
    "# *Final Geoestadística*\n",
    "***\n",
    "\n",
    "https://www.github.com/martinfernandoortiz\n",
    "\n",
    "Martín Fernando Ortiz - Rodrigo Morel\n",
    "\n"
   ]
  },
  {
   "cell_type": "code",
   "execution_count": 1,
   "id": "bd526576-bf59-4bb1-b9bf-d55e28b4d40c",
   "metadata": {
    "tags": []
   },
   "outputs": [],
   "source": [
    "################################################################\n",
    "#\n",
    "#   - Importacion de librerias\n",
    "#   - Asignaciòn de alias\n",
    "#\n",
    "####################################################################\n",
    "\n",
    "import numpy as np\n",
    "import matplotlib.pyplot as plt\n",
    "import pandas as pd\n",
    "import sklearn\n",
    "import seaborn as sns\n"
   ]
  },
  {
   "cell_type": "markdown",
   "id": "c634d41a-4d6d-4f35-a194-90a0dfc310c1",
   "metadata": {
    "tags": []
   },
   "source": [
    "***\n",
    "#  Trabajaremos con el dataset del SMN \n",
    "\n",
    "***"
   ]
  },
  {
   "cell_type": "code",
   "execution_count": 2,
   "id": "8795f4fd-92d6-4220-8a2a-a3d8e3f0618c",
   "metadata": {
    "tags": []
   },
   "outputs": [],
   "source": [
    "# Abrimos el arcivo con los datos:\n",
    "    \n",
    "path = \"datasets/\"    \n",
    "archivo = \"SMN_estaciones_medias_mensuales_1989_2010.xls\"\n",
    "df = pd.read_excel(archivo)\n"
   ]
  },
  {
   "cell_type": "markdown",
   "id": "4b381d97-6ea1-4dd9-a66f-19ff13f4ed06",
   "metadata": {
    "tags": []
   },
   "source": [
    "***\n",
    "Tenemos que corroborar que los tipos de columnas estén bien (algunas se cargan cómo string)\n",
    "\n",
    "***"
   ]
  },
  {
   "cell_type": "code",
   "execution_count": 19,
   "id": "f4911c3a-fca5-4d3c-97d5-74de9770c04b",
   "metadata": {
    "collapsed": true,
    "jupyter": {
     "outputs_hidden": true,
     "source_hidden": true
    },
    "tags": []
   },
   "outputs": [
    {
     "data": {
      "text/html": [
       "<div>\n",
       "<style scoped>\n",
       "    .dataframe tbody tr th:only-of-type {\n",
       "        vertical-align: middle;\n",
       "    }\n",
       "\n",
       "    .dataframe tbody tr th {\n",
       "        vertical-align: top;\n",
       "    }\n",
       "\n",
       "    .dataframe thead th {\n",
       "        text-align: right;\n",
       "    }\n",
       "</style>\n",
       "<table border=\"1\" class=\"dataframe\">\n",
       "  <thead>\n",
       "    <tr style=\"text-align: right;\">\n",
       "      <th></th>\n",
       "      <th>Unnamed: 0.1</th>\n",
       "      <th>Unnamed: 0</th>\n",
       "      <th>Estacion</th>\n",
       "      <th>mes</th>\n",
       "      <th>lat</th>\n",
       "      <th>long</th>\n",
       "      <th>Altura_(m)</th>\n",
       "      <th>Numero</th>\n",
       "      <th>Temperatura_(C)</th>\n",
       "      <th>Temperatura_maxima_(C)</th>\n",
       "      <th>Temperatura_minima_(C)</th>\n",
       "      <th>Humedad_relativa_(%)</th>\n",
       "      <th>Velocidad_del_Viento_(km/h)</th>\n",
       "      <th>Nubosidad_total_(octavos)</th>\n",
       "      <th>Precipitacion_(mm)</th>\n",
       "      <th>Frecuencia_dias_Precipitacion_&gt;0.1_mm</th>\n",
       "    </tr>\n",
       "  </thead>\n",
       "  <tbody>\n",
       "    <tr>\n",
       "      <th>0</th>\n",
       "      <td>0</td>\n",
       "      <td>0</td>\n",
       "      <td>LA QUIACA</td>\n",
       "      <td>ene</td>\n",
       "      <td>-12.0</td>\n",
       "      <td>-63.333333</td>\n",
       "      <td>3459</td>\n",
       "      <td>87007</td>\n",
       "      <td>12.8</td>\n",
       "      <td>20.1</td>\n",
       "      <td>7.4</td>\n",
       "      <td>65.3</td>\n",
       "      <td>6.9</td>\n",
       "      <td>5.2</td>\n",
       "      <td>97.5</td>\n",
       "      <td>15.9</td>\n",
       "    </tr>\n",
       "    <tr>\n",
       "      <th>1</th>\n",
       "      <td>1</td>\n",
       "      <td>1</td>\n",
       "      <td>LA QUIACA</td>\n",
       "      <td>feb</td>\n",
       "      <td>-12.0</td>\n",
       "      <td>-63.333333</td>\n",
       "      <td>3459</td>\n",
       "      <td>87007</td>\n",
       "      <td>12.5</td>\n",
       "      <td>19.9</td>\n",
       "      <td>7</td>\n",
       "      <td>64.1</td>\n",
       "      <td>7.1</td>\n",
       "      <td>4.8</td>\n",
       "      <td>68.4</td>\n",
       "      <td>12.2</td>\n",
       "    </tr>\n",
       "    <tr>\n",
       "      <th>2</th>\n",
       "      <td>2</td>\n",
       "      <td>2</td>\n",
       "      <td>LA QUIACA</td>\n",
       "      <td>mar</td>\n",
       "      <td>-12.0</td>\n",
       "      <td>-63.333333</td>\n",
       "      <td>3459</td>\n",
       "      <td>87007</td>\n",
       "      <td>12.4</td>\n",
       "      <td>19.9</td>\n",
       "      <td>6.3</td>\n",
       "      <td>62.4</td>\n",
       "      <td>6.5</td>\n",
       "      <td>4.1</td>\n",
       "      <td>55.9</td>\n",
       "      <td>9.8</td>\n",
       "    </tr>\n",
       "    <tr>\n",
       "      <th>3</th>\n",
       "      <td>3</td>\n",
       "      <td>3</td>\n",
       "      <td>LA QUIACA</td>\n",
       "      <td>abril</td>\n",
       "      <td>-12.0</td>\n",
       "      <td>-63.333333</td>\n",
       "      <td>3459</td>\n",
       "      <td>87007</td>\n",
       "      <td>10.9</td>\n",
       "      <td>19.7</td>\n",
       "      <td>2.8</td>\n",
       "      <td>48.2</td>\n",
       "      <td>6.4</td>\n",
       "      <td>2.7</td>\n",
       "      <td>8.2</td>\n",
       "      <td>2.4</td>\n",
       "    </tr>\n",
       "    <tr>\n",
       "      <th>4</th>\n",
       "      <td>4</td>\n",
       "      <td>4</td>\n",
       "      <td>LA QUIACA</td>\n",
       "      <td>mayo</td>\n",
       "      <td>-12.0</td>\n",
       "      <td>-63.333333</td>\n",
       "      <td>3459</td>\n",
       "      <td>87007</td>\n",
       "      <td>6.9</td>\n",
       "      <td>17.3</td>\n",
       "      <td>-3</td>\n",
       "      <td>34.6</td>\n",
       "      <td>6</td>\n",
       "      <td>1.8</td>\n",
       "      <td>1</td>\n",
       "      <td>0.3</td>\n",
       "    </tr>\n",
       "  </tbody>\n",
       "</table>\n",
       "</div>"
      ],
      "text/plain": [
       "   Unnamed: 0.1  Unnamed: 0   Estacion    mes   lat       long  Altura_(m)  \\\n",
       "0             0           0  LA QUIACA    ene -12.0 -63.333333        3459   \n",
       "1             1           1  LA QUIACA    feb -12.0 -63.333333        3459   \n",
       "2             2           2  LA QUIACA    mar -12.0 -63.333333        3459   \n",
       "3             3           3  LA QUIACA  abril -12.0 -63.333333        3459   \n",
       "4             4           4  LA QUIACA   mayo -12.0 -63.333333        3459   \n",
       "\n",
       "   Numero Temperatura_(C)  Temperatura_maxima_(C) Temperatura_minima_(C)  \\\n",
       "0   87007            12.8                    20.1                    7.4   \n",
       "1   87007            12.5                    19.9                      7   \n",
       "2   87007            12.4                    19.9                    6.3   \n",
       "3   87007            10.9                    19.7                    2.8   \n",
       "4   87007             6.9                    17.3                     -3   \n",
       "\n",
       "  Humedad_relativa_(%) Velocidad_del_Viento_(km/h) Nubosidad_total_(octavos)  \\\n",
       "0                 65.3                         6.9                       5.2   \n",
       "1                 64.1                         7.1                       4.8   \n",
       "2                 62.4                         6.5                       4.1   \n",
       "3                 48.2                         6.4                       2.7   \n",
       "4                 34.6                           6                       1.8   \n",
       "\n",
       "  Precipitacion_(mm) Frecuencia_dias_Precipitacion_>0.1_mm  \n",
       "0               97.5                                  15.9  \n",
       "1               68.4                                  12.2  \n",
       "2               55.9                                   9.8  \n",
       "3                8.2                                   2.4  \n",
       "4                  1                                   0.3  "
      ]
     },
     "execution_count": 19,
     "metadata": {},
     "output_type": "execute_result"
    }
   ],
   "source": [
    "df.head()"
   ]
  },
  {
   "cell_type": "code",
   "execution_count": 3,
   "id": "a3b92640-3893-4ebc-889f-98a4dbe880b5",
   "metadata": {
    "tags": []
   },
   "outputs": [
    {
     "data": {
      "text/plain": [
       "Unnamed: 0.1                               int64\n",
       "Unnamed: 0                                 int64\n",
       "Estacion                                  object\n",
       "mes                                       object\n",
       "lat                                      float64\n",
       "long                                     float64\n",
       "Altura_(m)                                 int64\n",
       "Numero                                     int64\n",
       "Temperatura_(C)                           object\n",
       "Temperatura_maxima_(C)                   float64\n",
       "Temperatura_minima_(C)                    object\n",
       "Humedad_relativa_(%)                      object\n",
       "Velocidad_del_Viento_(km/h)               object\n",
       "Nubosidad_total_(octavos)                 object\n",
       "Precipitacion_(mm)                        object\n",
       "Frecuencia_dias_Precipitacion_>0.1_mm     object\n",
       "dtype: object"
      ]
     },
     "execution_count": 3,
     "metadata": {},
     "output_type": "execute_result"
    }
   ],
   "source": [
    "df.dtypes\n",
    "#df.columns"
   ]
  },
  {
   "cell_type": "code",
   "execution_count": null,
   "id": "5d0fc9ef-d278-4967-8bfc-6d3218cecda3",
   "metadata": {
    "tags": []
   },
   "outputs": [],
   "source": [
    "#Sacamos los no data"
   ]
  },
  {
   "cell_type": "code",
   "execution_count": 4,
   "id": "109b4176-6d23-43df-a0db-b23dfe376f85",
   "metadata": {
    "tags": []
   },
   "outputs": [],
   "source": [
    "df.replace(\"S/D\", 0, inplace = True)"
   ]
  },
  {
   "cell_type": "code",
   "execution_count": null,
   "id": "b4864d95-5aa6-4f03-bbd0-8493638699dd",
   "metadata": {},
   "outputs": [],
   "source": [
    "#Cambiamos el tipo de columnas de string a float"
   ]
  },
  {
   "cell_type": "code",
   "execution_count": 5,
   "id": "60585f39-c2b1-411c-95e6-5e9138151204",
   "metadata": {
    "tags": []
   },
   "outputs": [],
   "source": [
    "df[[\"Temperatura_(C)\",\"Temperatura_minima_(C)\", \"Humedad_relativa_(%)\",\"Velocidad_del_Viento_(km/h)\", \"Nubosidad_total_(octavos)\",\"Precipitacion_(mm)\",\n",
    "    \"Frecuencia_dias_Precipitacion_>0.1_mm\"]] = df[[\"Temperatura_(C)\",\"Temperatura_minima_(C)\", \"Humedad_relativa_(%)\",\"Velocidad_del_Viento_(km/h)\", \n",
    "                                                    \"Nubosidad_total_(octavos)\",\"Precipitacion_(mm)\",\"Frecuencia_dias_Precipitacion_>0.1_mm\"]].astype(float)"
   ]
  },
  {
   "cell_type": "code",
   "execution_count": 6,
   "id": "f390e62b-f0a6-43f9-8d2d-9524bfeb0c2f",
   "metadata": {
    "tags": []
   },
   "outputs": [],
   "source": [
    "df.iloc[:, [8,10,11,12,13,14,15]] =df.iloc[:, [8,10,11,12,13,14,15]].astype(float)"
   ]
  },
  {
   "cell_type": "code",
   "execution_count": 7,
   "id": "98ed4f89-0c1d-4bb9-b8e0-b34ea6021b92",
   "metadata": {
    "tags": []
   },
   "outputs": [],
   "source": [
    "df.iloc[:, np.r_[8, 10:15]]=df.iloc[:, np.r_[8, 10:15]].astype(float)"
   ]
  },
  {
   "cell_type": "code",
   "execution_count": 8,
   "id": "dd574e1a-9303-4017-8857-347891aa6bf2",
   "metadata": {
    "tags": []
   },
   "outputs": [
    {
     "data": {
      "text/plain": [
       "Unnamed: 0.1                               int64\n",
       "Unnamed: 0                                 int64\n",
       "Estacion                                  object\n",
       "mes                                       object\n",
       "lat                                      float64\n",
       "long                                     float64\n",
       "Altura_(m)                                 int64\n",
       "Numero                                     int64\n",
       "Temperatura_(C)                          float64\n",
       "Temperatura_maxima_(C)                   float64\n",
       "Temperatura_minima_(C)                   float64\n",
       "Humedad_relativa_(%)                     float64\n",
       "Velocidad_del_Viento_(km/h)              float64\n",
       "Nubosidad_total_(octavos)                float64\n",
       "Precipitacion_(mm)                       float64\n",
       "Frecuencia_dias_Precipitacion_>0.1_mm    float64\n",
       "dtype: object"
      ]
     },
     "execution_count": 8,
     "metadata": {},
     "output_type": "execute_result"
    }
   ],
   "source": [
    "df.dtypes"
   ]
  },
  {
   "cell_type": "code",
   "execution_count": null,
   "id": "a92b84fa-223c-481b-8bad-825c960925af",
   "metadata": {},
   "outputs": [],
   "source": [
    "# Para calcular los rangos, solo vamos a utilizar los campos que tienen informciòn númerica meteorológica (quitamos estación, mes, lat, long y numero)"
   ]
  },
  {
   "cell_type": "code",
   "execution_count": 9,
   "id": "00db8f54-fffa-4780-9832-3be4f2f1b9e9",
   "metadata": {
    "tags": []
   },
   "outputs": [],
   "source": [
    "#Maximo\n",
    "max=df.iloc[:, np.r_[6,8:15]].max() "
   ]
  },
  {
   "cell_type": "code",
   "execution_count": 10,
   "id": "20e2a93d-bad7-49b0-8f3d-a0a092cd61ad",
   "metadata": {
    "tags": []
   },
   "outputs": [],
   "source": [
    "#Minimo\n",
    "min= df.iloc[:, np.r_[6,8:15]].min()"
   ]
  },
  {
   "cell_type": "code",
   "execution_count": 11,
   "id": "19905bf3-7e06-4644-b232-bb5b7eddfd0e",
   "metadata": {
    "tags": []
   },
   "outputs": [],
   "source": [
    "# Media\n",
    "media=df.iloc[:, np.r_[6,8:15]].mean()"
   ]
  },
  {
   "cell_type": "code",
   "execution_count": 12,
   "id": "6ce959d2-fd4e-4b6f-9449-a220dd689d10",
   "metadata": {
    "tags": []
   },
   "outputs": [],
   "source": [
    "#Desviación estandard\n",
    "std=df.iloc[:, np.r_[6,8:15]].std()"
   ]
  },
  {
   "cell_type": "code",
   "execution_count": 64,
   "id": "fac964ba-a6ac-40ca-8b66-2c6a0d27133e",
   "metadata": {
    "jupyter": {
     "source_hidden": true
    },
    "tags": []
   },
   "outputs": [],
   "source": [
    "\n",
    " \n",
    "# Creating a dictionary by passing Series objects as values\n",
    "frame = {'max': max,\n",
    "         'min': min,\n",
    "         'media': media,\n",
    "         'std': std}\n",
    " \n",
    "# Creating DataFrame by passing Dictionary\n",
    "estadisticos = pd.DataFrame(frame)\n",
    "#type(estadisticos)"
   ]
  },
  {
   "cell_type": "code",
   "execution_count": 13,
   "id": "c3a08af3-eb28-43c4-844c-02c783aa0ae2",
   "metadata": {
    "tags": []
   },
   "outputs": [
    {
     "ename": "NameError",
     "evalue": "name 'estadisticos' is not defined",
     "output_type": "error",
     "traceback": [
      "\u001b[0;31m---------------------------------------------------------------------------\u001b[0m",
      "\u001b[0;31mNameError\u001b[0m                                 Traceback (most recent call last)",
      "Cell \u001b[0;32mIn[13], line 1\u001b[0m\n\u001b[0;32m----> 1\u001b[0m \u001b[43mestadisticos\u001b[49m\n",
      "\u001b[0;31mNameError\u001b[0m: name 'estadisticos' is not defined"
     ]
    }
   ],
   "source": [
    "estadisticos"
   ]
  },
  {
   "cell_type": "code",
   "execution_count": 14,
   "id": "662ebedd-58d0-4dec-8d0a-85d1a3b3f57e",
   "metadata": {
    "tags": []
   },
   "outputs": [
    {
     "data": {
      "text/html": [
       "<div>\n",
       "<style scoped>\n",
       "    .dataframe tbody tr th:only-of-type {\n",
       "        vertical-align: middle;\n",
       "    }\n",
       "\n",
       "    .dataframe tbody tr th {\n",
       "        vertical-align: top;\n",
       "    }\n",
       "\n",
       "    .dataframe thead th {\n",
       "        text-align: right;\n",
       "    }\n",
       "</style>\n",
       "<table border=\"1\" class=\"dataframe\">\n",
       "  <thead>\n",
       "    <tr style=\"text-align: right;\">\n",
       "      <th></th>\n",
       "      <th>Altura_(m)</th>\n",
       "      <th>Temperatura_(C)</th>\n",
       "      <th>Temperatura_maxima_(C)</th>\n",
       "      <th>Temperatura_minima_(C)</th>\n",
       "      <th>Humedad_relativa_(%)</th>\n",
       "      <th>Velocidad_del_Viento_(km/h)</th>\n",
       "      <th>Nubosidad_total_(octavos)</th>\n",
       "      <th>Precipitacion_(mm)</th>\n",
       "    </tr>\n",
       "  </thead>\n",
       "  <tbody>\n",
       "    <tr>\n",
       "      <th>count</th>\n",
       "      <td>840.000000</td>\n",
       "      <td>840.000000</td>\n",
       "      <td>840.000000</td>\n",
       "      <td>840.000000</td>\n",
       "      <td>840.000000</td>\n",
       "      <td>840.000000</td>\n",
       "      <td>840.000000</td>\n",
       "      <td>840.000000</td>\n",
       "    </tr>\n",
       "    <tr>\n",
       "      <th>mean</th>\n",
       "      <td>339.842857</td>\n",
       "      <td>15.834048</td>\n",
       "      <td>22.411667</td>\n",
       "      <td>9.957619</td>\n",
       "      <td>65.776429</td>\n",
       "      <td>10.499048</td>\n",
       "      <td>3.753571</td>\n",
       "      <td>66.611071</td>\n",
       "    </tr>\n",
       "    <tr>\n",
       "      <th>std</th>\n",
       "      <td>491.592483</td>\n",
       "      <td>7.030954</td>\n",
       "      <td>7.443672</td>\n",
       "      <td>6.883004</td>\n",
       "      <td>16.208226</td>\n",
       "      <td>6.713026</td>\n",
       "      <td>0.902407</td>\n",
       "      <td>52.807858</td>\n",
       "    </tr>\n",
       "    <tr>\n",
       "      <th>min</th>\n",
       "      <td>6.000000</td>\n",
       "      <td>-11.600000</td>\n",
       "      <td>-7.300000</td>\n",
       "      <td>-16.800000</td>\n",
       "      <td>0.000000</td>\n",
       "      <td>0.000000</td>\n",
       "      <td>0.000000</td>\n",
       "      <td>0.000000</td>\n",
       "    </tr>\n",
       "    <tr>\n",
       "      <th>25%</th>\n",
       "      <td>52.000000</td>\n",
       "      <td>11.200000</td>\n",
       "      <td>18.000000</td>\n",
       "      <td>5.100000</td>\n",
       "      <td>60.425000</td>\n",
       "      <td>6.800000</td>\n",
       "      <td>3.400000</td>\n",
       "      <td>20.775000</td>\n",
       "    </tr>\n",
       "    <tr>\n",
       "      <th>50%</th>\n",
       "      <td>141.000000</td>\n",
       "      <td>16.300000</td>\n",
       "      <td>23.100000</td>\n",
       "      <td>10.450000</td>\n",
       "      <td>69.850000</td>\n",
       "      <td>10.300000</td>\n",
       "      <td>3.700000</td>\n",
       "      <td>56.800000</td>\n",
       "    </tr>\n",
       "    <tr>\n",
       "      <th>75%</th>\n",
       "      <td>464.000000</td>\n",
       "      <td>21.700000</td>\n",
       "      <td>28.300000</td>\n",
       "      <td>15.300000</td>\n",
       "      <td>76.000000</td>\n",
       "      <td>14.025000</td>\n",
       "      <td>4.100000</td>\n",
       "      <td>107.400000</td>\n",
       "    </tr>\n",
       "    <tr>\n",
       "      <th>max</th>\n",
       "      <td>3459.000000</td>\n",
       "      <td>27.900000</td>\n",
       "      <td>35.100000</td>\n",
       "      <td>22.300000</td>\n",
       "      <td>88.100000</td>\n",
       "      <td>30.800000</td>\n",
       "      <td>7.500000</td>\n",
       "      <td>237.000000</td>\n",
       "    </tr>\n",
       "  </tbody>\n",
       "</table>\n",
       "</div>"
      ],
      "text/plain": [
       "        Altura_(m)  Temperatura_(C)  Temperatura_maxima_(C)  \\\n",
       "count   840.000000       840.000000              840.000000   \n",
       "mean    339.842857        15.834048               22.411667   \n",
       "std     491.592483         7.030954                7.443672   \n",
       "min       6.000000       -11.600000               -7.300000   \n",
       "25%      52.000000        11.200000               18.000000   \n",
       "50%     141.000000        16.300000               23.100000   \n",
       "75%     464.000000        21.700000               28.300000   \n",
       "max    3459.000000        27.900000               35.100000   \n",
       "\n",
       "       Temperatura_minima_(C)  Humedad_relativa_(%)  \\\n",
       "count              840.000000            840.000000   \n",
       "mean                 9.957619             65.776429   \n",
       "std                  6.883004             16.208226   \n",
       "min                -16.800000              0.000000   \n",
       "25%                  5.100000             60.425000   \n",
       "50%                 10.450000             69.850000   \n",
       "75%                 15.300000             76.000000   \n",
       "max                 22.300000             88.100000   \n",
       "\n",
       "       Velocidad_del_Viento_(km/h)  Nubosidad_total_(octavos)  \\\n",
       "count                   840.000000                 840.000000   \n",
       "mean                     10.499048                   3.753571   \n",
       "std                       6.713026                   0.902407   \n",
       "min                       0.000000                   0.000000   \n",
       "25%                       6.800000                   3.400000   \n",
       "50%                      10.300000                   3.700000   \n",
       "75%                      14.025000                   4.100000   \n",
       "max                      30.800000                   7.500000   \n",
       "\n",
       "       Precipitacion_(mm)  \n",
       "count          840.000000  \n",
       "mean            66.611071  \n",
       "std             52.807858  \n",
       "min              0.000000  \n",
       "25%             20.775000  \n",
       "50%             56.800000  \n",
       "75%            107.400000  \n",
       "max            237.000000  "
      ]
     },
     "execution_count": 14,
     "metadata": {},
     "output_type": "execute_result"
    }
   ],
   "source": [
    "df.iloc[:, np.r_[6,8:15]].describe()"
   ]
  },
  {
   "cell_type": "code",
   "execution_count": 15,
   "id": "be2d4215-8004-46bd-9fa2-825bf653bf95",
   "metadata": {
    "tags": []
   },
   "outputs": [
    {
     "data": {
      "text/plain": [
       "60.425"
      ]
     },
     "execution_count": 15,
     "metadata": {},
     "output_type": "execute_result"
    }
   ],
   "source": [
    "df[\"Humedad_relativa_(%)\"].quantile(0.25)"
   ]
  },
  {
   "cell_type": "code",
   "execution_count": 73,
   "id": "ea26dc79-ac22-4e97-baa8-a5dd21acd79f",
   "metadata": {
    "jupyter": {
     "source_hidden": true
    },
    "tags": []
   },
   "outputs": [
    {
     "data": {
      "text/plain": [
       "76.0"
      ]
     },
     "execution_count": 73,
     "metadata": {},
     "output_type": "execute_result"
    }
   ],
   "source": [
    "df[\"Humedad_relativa_(%)\"].quantile(0.75)"
   ]
  },
  {
   "cell_type": "code",
   "execution_count": 16,
   "id": "ae6b8b0d-62bf-4011-8cbf-f157ac7b8ccd",
   "metadata": {
    "tags": []
   },
   "outputs": [
    {
     "data": {
      "text/plain": [
       "15.575000000000003"
      ]
     },
     "execution_count": 16,
     "metadata": {},
     "output_type": "execute_result"
    }
   ],
   "source": [
    "Q1 = df[\"Humedad_relativa_(%)\"].quantile(0.25)\n",
    "Q3 = df[\"Humedad_relativa_(%)\"].quantile(0.75)\n",
    "IQR = Q3 - Q1\n",
    "IQR"
   ]
  },
  {
   "cell_type": "code",
   "execution_count": 17,
   "id": "0051bf17-6f82-4c27-ac28-1e02855057d0",
   "metadata": {
    "tags": []
   },
   "outputs": [],
   "source": [
    "lower_lim = Q1 - 1.5 * IQR\n",
    "upper_lim = Q3 + 1.5 * IQR"
   ]
  },
  {
   "cell_type": "code",
   "execution_count": 122,
   "id": "d1f104e1-929d-409f-ab12-0f1ccbe88eeb",
   "metadata": {
    "tags": []
   },
   "outputs": [
    {
     "data": {
      "text/plain": [
       "37.06249999999999"
      ]
     },
     "execution_count": 122,
     "metadata": {},
     "output_type": "execute_result"
    }
   ],
   "source": [
    "lower_lim"
   ]
  },
  {
   "cell_type": "code",
   "execution_count": 123,
   "id": "24238018-50ba-47c9-b518-291a9e8e9af1",
   "metadata": {
    "tags": []
   },
   "outputs": [
    {
     "data": {
      "text/plain": [
       "99.36250000000001"
      ]
     },
     "execution_count": 123,
     "metadata": {},
     "output_type": "execute_result"
    }
   ],
   "source": [
    "upper_lim"
   ]
  },
  {
   "cell_type": "code",
   "execution_count": 157,
   "id": "3bdf4c94-e656-4ccf-a551-96b644382d9e",
   "metadata": {
    "tags": []
   },
   "outputs": [],
   "source": [
    "hola = df['outlier'].value_counts(normalize=True)\n",
    "col=\"a\""
   ]
  },
  {
   "cell_type": "code",
   "execution_count": 22,
   "id": "9f895e9c-6e68-44db-ae79-03307dd7c469",
   "metadata": {
    "tags": []
   },
   "outputs": [],
   "source": [
    "\n",
    "outliers_df = pd.DataFrame()\n",
    "#type(estadisticos)\n",
    "rango= np.r_[6,8:15]\n",
    "\n",
    "y= 0\n"
   ]
  },
  {
   "cell_type": "code",
   "execution_count": null,
   "id": "cc2e14fa-198f-4f37-b0d0-0780ef77cfdc",
   "metadata": {},
   "outputs": [],
   "source": [
    "#Porcentaje de datos por fuera de los bigotes del boxplot, cuanto este esta definido como Q1 − 1.5 ∗ RI y Q3 + 1.5 ∗ RI."
   ]
  },
  {
   "cell_type": "code",
   "execution_count": 129,
   "id": "10985700-0bbd-49f6-bfd8-258d2414aafa",
   "metadata": {
    "tags": []
   },
   "outputs": [
    {
     "data": {
      "text/plain": [
       "no         0.958333\n",
       "outlier    0.041667\n",
       "Name: Good, dtype: float64"
      ]
     },
     "execution_count": 129,
     "metadata": {},
     "output_type": "execute_result"
    }
   ],
   "source": [
    "#df['Good'].value_counts(normalize=True)"
   ]
  },
  {
   "cell_type": "code",
   "execution_count": null,
   "id": "e479d308-d569-416c-9e38-212daf713630",
   "metadata": {},
   "outputs": [],
   "source": [
    "#Porcentaje de datos por fuera de los bigotes del boxplot, cuanto este esta definido como Q1 − 1.5 ∗ RI y Q3 + 1.5 ∗ RI."
   ]
  },
  {
   "cell_type": "code",
   "execution_count": 25,
   "id": "700bc54c-d432-4849-8cb8-cd0bc82da6b4",
   "metadata": {
    "tags": []
   },
   "outputs": [
    {
     "name": "stdout",
     "output_type": "stream",
     "text": [
      "Altura_(m)\n",
      "Temperatura_(C)\n",
      "Temperatura_maxima_(C)\n",
      "Temperatura_minima_(C)\n",
      "Humedad_relativa_(%)\n",
      "Velocidad_del_Viento_(km/h)\n",
      "Nubosidad_total_(octavos)\n",
      "Precipitacion_(mm)\n"
     ]
    },
    {
     "name": "stderr",
     "output_type": "stream",
     "text": [
      "/tmp/ipykernel_129/2280272990.py:17: FutureWarning: The series.append method is deprecated and will be removed from pandas in a future version. Use pandas.concat instead.\n",
      "  porcentaje = porcentaje.append(lower_lim_).rename(colname)\n",
      "/tmp/ipykernel_129/2280272990.py:18: FutureWarning: The series.append method is deprecated and will be removed from pandas in a future version. Use pandas.concat instead.\n",
      "  porcentaje = porcentaje.append(upper_lim_).rename(colname)\n",
      "/tmp/ipykernel_129/2280272990.py:21: FutureWarning: The frame.append method is deprecated and will be removed from pandas in a future version. Use pandas.concat instead.\n",
      "  outliers_df = outliers_df.append(porcentaje,ignore_index=False)\n",
      "/tmp/ipykernel_129/2280272990.py:17: FutureWarning: The series.append method is deprecated and will be removed from pandas in a future version. Use pandas.concat instead.\n",
      "  porcentaje = porcentaje.append(lower_lim_).rename(colname)\n",
      "/tmp/ipykernel_129/2280272990.py:18: FutureWarning: The series.append method is deprecated and will be removed from pandas in a future version. Use pandas.concat instead.\n",
      "  porcentaje = porcentaje.append(upper_lim_).rename(colname)\n",
      "/tmp/ipykernel_129/2280272990.py:21: FutureWarning: The frame.append method is deprecated and will be removed from pandas in a future version. Use pandas.concat instead.\n",
      "  outliers_df = outliers_df.append(porcentaje,ignore_index=False)\n",
      "/tmp/ipykernel_129/2280272990.py:17: FutureWarning: The series.append method is deprecated and will be removed from pandas in a future version. Use pandas.concat instead.\n",
      "  porcentaje = porcentaje.append(lower_lim_).rename(colname)\n",
      "/tmp/ipykernel_129/2280272990.py:18: FutureWarning: The series.append method is deprecated and will be removed from pandas in a future version. Use pandas.concat instead.\n",
      "  porcentaje = porcentaje.append(upper_lim_).rename(colname)\n",
      "/tmp/ipykernel_129/2280272990.py:21: FutureWarning: The frame.append method is deprecated and will be removed from pandas in a future version. Use pandas.concat instead.\n",
      "  outliers_df = outliers_df.append(porcentaje,ignore_index=False)\n",
      "/tmp/ipykernel_129/2280272990.py:17: FutureWarning: The series.append method is deprecated and will be removed from pandas in a future version. Use pandas.concat instead.\n",
      "  porcentaje = porcentaje.append(lower_lim_).rename(colname)\n",
      "/tmp/ipykernel_129/2280272990.py:18: FutureWarning: The series.append method is deprecated and will be removed from pandas in a future version. Use pandas.concat instead.\n",
      "  porcentaje = porcentaje.append(upper_lim_).rename(colname)\n",
      "/tmp/ipykernel_129/2280272990.py:21: FutureWarning: The frame.append method is deprecated and will be removed from pandas in a future version. Use pandas.concat instead.\n",
      "  outliers_df = outliers_df.append(porcentaje,ignore_index=False)\n",
      "/tmp/ipykernel_129/2280272990.py:17: FutureWarning: The series.append method is deprecated and will be removed from pandas in a future version. Use pandas.concat instead.\n",
      "  porcentaje = porcentaje.append(lower_lim_).rename(colname)\n",
      "/tmp/ipykernel_129/2280272990.py:18: FutureWarning: The series.append method is deprecated and will be removed from pandas in a future version. Use pandas.concat instead.\n",
      "  porcentaje = porcentaje.append(upper_lim_).rename(colname)\n",
      "/tmp/ipykernel_129/2280272990.py:21: FutureWarning: The frame.append method is deprecated and will be removed from pandas in a future version. Use pandas.concat instead.\n",
      "  outliers_df = outliers_df.append(porcentaje,ignore_index=False)\n",
      "/tmp/ipykernel_129/2280272990.py:17: FutureWarning: The series.append method is deprecated and will be removed from pandas in a future version. Use pandas.concat instead.\n",
      "  porcentaje = porcentaje.append(lower_lim_).rename(colname)\n",
      "/tmp/ipykernel_129/2280272990.py:18: FutureWarning: The series.append method is deprecated and will be removed from pandas in a future version. Use pandas.concat instead.\n",
      "  porcentaje = porcentaje.append(upper_lim_).rename(colname)\n",
      "/tmp/ipykernel_129/2280272990.py:21: FutureWarning: The frame.append method is deprecated and will be removed from pandas in a future version. Use pandas.concat instead.\n",
      "  outliers_df = outliers_df.append(porcentaje,ignore_index=False)\n",
      "/tmp/ipykernel_129/2280272990.py:17: FutureWarning: The series.append method is deprecated and will be removed from pandas in a future version. Use pandas.concat instead.\n",
      "  porcentaje = porcentaje.append(lower_lim_).rename(colname)\n",
      "/tmp/ipykernel_129/2280272990.py:18: FutureWarning: The series.append method is deprecated and will be removed from pandas in a future version. Use pandas.concat instead.\n",
      "  porcentaje = porcentaje.append(upper_lim_).rename(colname)\n",
      "/tmp/ipykernel_129/2280272990.py:21: FutureWarning: The frame.append method is deprecated and will be removed from pandas in a future version. Use pandas.concat instead.\n",
      "  outliers_df = outliers_df.append(porcentaje,ignore_index=False)\n",
      "/tmp/ipykernel_129/2280272990.py:17: FutureWarning: The series.append method is deprecated and will be removed from pandas in a future version. Use pandas.concat instead.\n",
      "  porcentaje = porcentaje.append(lower_lim_).rename(colname)\n",
      "/tmp/ipykernel_129/2280272990.py:18: FutureWarning: The series.append method is deprecated and will be removed from pandas in a future version. Use pandas.concat instead.\n",
      "  porcentaje = porcentaje.append(upper_lim_).rename(colname)\n",
      "/tmp/ipykernel_129/2280272990.py:21: FutureWarning: The frame.append method is deprecated and will be removed from pandas in a future version. Use pandas.concat instead.\n",
      "  outliers_df = outliers_df.append(porcentaje,ignore_index=False)\n"
     ]
    }
   ],
   "source": [
    "\n",
    "for x in rango:\n",
    "    \n",
    "    colname = df.columns[x]\n",
    "    print(colname)\n",
    "    Q1 = df[colname].quantile(0.25)\n",
    "    Q3 = df[colname].quantile(0.75)\n",
    "    IQR = Q3 - Q1\n",
    "    lower_lim = Q1 - 1.5 * IQR\n",
    "    upper_lim = Q3 + 1.5 * IQR\n",
    "    df['outlier'] = df.apply(f, axis=1)\n",
    "    \n",
    "\n",
    "    porcentaje =df['outlier'].value_counts(normalize=True).rename(colname)\n",
    "\n",
    "    lower_lim_ = pd.Series({\"lower_lim\":lower_lim}).rename(colname)\n",
    "    upper_lim_ = pd.Series({\"upper_lim\":upper_lim}).rename(colname)\n",
    "    porcentaje = porcentaje.append(lower_lim_).rename(colname)\n",
    "    porcentaje = porcentaje.append(upper_lim_).rename(colname)\n",
    "\n",
    "   # print(porcentaje)\n",
    "    outliers_df = outliers_df.append(porcentaje,ignore_index=False) \n",
    "    #print(outliers_df)\n"
   ]
  },
  {
   "cell_type": "code",
   "execution_count": 24,
   "id": "9487f1b5-21b9-415c-955c-0da2b8b0b481",
   "metadata": {
    "tags": []
   },
   "outputs": [
    {
     "data": {
      "text/html": [
       "<div>\n",
       "<style scoped>\n",
       "    .dataframe tbody tr th:only-of-type {\n",
       "        vertical-align: middle;\n",
       "    }\n",
       "\n",
       "    .dataframe tbody tr th {\n",
       "        vertical-align: top;\n",
       "    }\n",
       "\n",
       "    .dataframe thead th {\n",
       "        text-align: right;\n",
       "    }\n",
       "</style>\n",
       "<table border=\"1\" class=\"dataframe\">\n",
       "  <thead>\n",
       "    <tr style=\"text-align: right;\">\n",
       "      <th></th>\n",
       "      <th>Sin Outliers</th>\n",
       "      <th>Outlier</th>\n",
       "      <th>lower_lim</th>\n",
       "      <th>upper_lim</th>\n",
       "    </tr>\n",
       "  </thead>\n",
       "  <tbody>\n",
       "    <tr>\n",
       "      <th>Altura_(m)</th>\n",
       "      <td>0.985714</td>\n",
       "      <td>0.014286</td>\n",
       "      <td>-1184.000</td>\n",
       "      <td>1700.000</td>\n",
       "    </tr>\n",
       "    <tr>\n",
       "      <th>Temperatura_(C)</th>\n",
       "      <td>1.000000</td>\n",
       "      <td>NaN</td>\n",
       "      <td>-20.300</td>\n",
       "      <td>53.200</td>\n",
       "    </tr>\n",
       "    <tr>\n",
       "      <th>Temperatura_maxima_(C)</th>\n",
       "      <td>1.000000</td>\n",
       "      <td>NaN</td>\n",
       "      <td>-12.900</td>\n",
       "      <td>59.200</td>\n",
       "    </tr>\n",
       "    <tr>\n",
       "      <th>Temperatura_minima_(C)</th>\n",
       "      <td>1.000000</td>\n",
       "      <td>NaN</td>\n",
       "      <td>-25.500</td>\n",
       "      <td>45.900</td>\n",
       "    </tr>\n",
       "    <tr>\n",
       "      <th>Humedad_relativa_(%)</th>\n",
       "      <td>0.966667</td>\n",
       "      <td>0.033333</td>\n",
       "      <td>13.700</td>\n",
       "      <td>122.725</td>\n",
       "    </tr>\n",
       "    <tr>\n",
       "      <th>Velocidad_del_Viento_(km/h)</th>\n",
       "      <td>1.000000</td>\n",
       "      <td>NaN</td>\n",
       "      <td>-14.875</td>\n",
       "      <td>35.700</td>\n",
       "    </tr>\n",
       "    <tr>\n",
       "      <th>Nubosidad_total_(octavos)</th>\n",
       "      <td>0.961905</td>\n",
       "      <td>0.038095</td>\n",
       "      <td>1.300</td>\n",
       "      <td>6.200</td>\n",
       "    </tr>\n",
       "    <tr>\n",
       "      <th>Precipitacion_(mm)</th>\n",
       "      <td>1.000000</td>\n",
       "      <td>NaN</td>\n",
       "      <td>-239.100</td>\n",
       "      <td>367.275</td>\n",
       "    </tr>\n",
       "  </tbody>\n",
       "</table>\n",
       "</div>"
      ],
      "text/plain": [
       "                             Sin Outliers   Outlier  lower_lim  upper_lim\n",
       "Altura_(m)                       0.985714  0.014286  -1184.000   1700.000\n",
       "Temperatura_(C)                  1.000000       NaN    -20.300     53.200\n",
       "Temperatura_maxima_(C)           1.000000       NaN    -12.900     59.200\n",
       "Temperatura_minima_(C)           1.000000       NaN    -25.500     45.900\n",
       "Humedad_relativa_(%)             0.966667  0.033333     13.700    122.725\n",
       "Velocidad_del_Viento_(km/h)      1.000000       NaN    -14.875     35.700\n",
       "Nubosidad_total_(octavos)        0.961905  0.038095      1.300      6.200\n",
       "Precipitacion_(mm)               1.000000       NaN   -239.100    367.275"
      ]
     },
     "execution_count": 24,
     "metadata": {},
     "output_type": "execute_result"
    }
   ],
   "source": [
    "outliers_df"
   ]
  },
  {
   "cell_type": "code",
   "execution_count": 26,
   "id": "44417e8f-4551-4e18-9a2b-2bf30003124e",
   "metadata": {
    "tags": []
   },
   "outputs": [
    {
     "name": "stdout",
     "output_type": "stream",
     "text": [
      "Altura_(m)\n",
      "Temperatura_(C)\n",
      "Temperatura_maxima_(C)\n",
      "Temperatura_minima_(C)\n",
      "Humedad_relativa_(%)\n",
      "Velocidad_del_Viento_(km/h)\n",
      "Nubosidad_total_(octavos)\n",
      "Precipitacion_(mm)\n"
     ]
    },
    {
     "name": "stderr",
     "output_type": "stream",
     "text": [
      "/tmp/ipykernel_129/3007604029.py:17: FutureWarning: The series.append method is deprecated and will be removed from pandas in a future version. Use pandas.concat instead.\n",
      "  porcentaje = porcentaje.append(lower_lim_).rename(colname)\n",
      "/tmp/ipykernel_129/3007604029.py:18: FutureWarning: The series.append method is deprecated and will be removed from pandas in a future version. Use pandas.concat instead.\n",
      "  porcentaje = porcentaje.append(upper_lim_).rename(colname)\n",
      "/tmp/ipykernel_129/3007604029.py:21: FutureWarning: The frame.append method is deprecated and will be removed from pandas in a future version. Use pandas.concat instead.\n",
      "  outliers_df3 = outliers_df.append(porcentaje,ignore_index=False)\n",
      "/tmp/ipykernel_129/3007604029.py:17: FutureWarning: The series.append method is deprecated and will be removed from pandas in a future version. Use pandas.concat instead.\n",
      "  porcentaje = porcentaje.append(lower_lim_).rename(colname)\n",
      "/tmp/ipykernel_129/3007604029.py:18: FutureWarning: The series.append method is deprecated and will be removed from pandas in a future version. Use pandas.concat instead.\n",
      "  porcentaje = porcentaje.append(upper_lim_).rename(colname)\n",
      "/tmp/ipykernel_129/3007604029.py:21: FutureWarning: The frame.append method is deprecated and will be removed from pandas in a future version. Use pandas.concat instead.\n",
      "  outliers_df3 = outliers_df.append(porcentaje,ignore_index=False)\n",
      "/tmp/ipykernel_129/3007604029.py:17: FutureWarning: The series.append method is deprecated and will be removed from pandas in a future version. Use pandas.concat instead.\n",
      "  porcentaje = porcentaje.append(lower_lim_).rename(colname)\n",
      "/tmp/ipykernel_129/3007604029.py:18: FutureWarning: The series.append method is deprecated and will be removed from pandas in a future version. Use pandas.concat instead.\n",
      "  porcentaje = porcentaje.append(upper_lim_).rename(colname)\n",
      "/tmp/ipykernel_129/3007604029.py:21: FutureWarning: The frame.append method is deprecated and will be removed from pandas in a future version. Use pandas.concat instead.\n",
      "  outliers_df3 = outliers_df.append(porcentaje,ignore_index=False)\n",
      "/tmp/ipykernel_129/3007604029.py:17: FutureWarning: The series.append method is deprecated and will be removed from pandas in a future version. Use pandas.concat instead.\n",
      "  porcentaje = porcentaje.append(lower_lim_).rename(colname)\n",
      "/tmp/ipykernel_129/3007604029.py:18: FutureWarning: The series.append method is deprecated and will be removed from pandas in a future version. Use pandas.concat instead.\n",
      "  porcentaje = porcentaje.append(upper_lim_).rename(colname)\n",
      "/tmp/ipykernel_129/3007604029.py:21: FutureWarning: The frame.append method is deprecated and will be removed from pandas in a future version. Use pandas.concat instead.\n",
      "  outliers_df3 = outliers_df.append(porcentaje,ignore_index=False)\n",
      "/tmp/ipykernel_129/3007604029.py:17: FutureWarning: The series.append method is deprecated and will be removed from pandas in a future version. Use pandas.concat instead.\n",
      "  porcentaje = porcentaje.append(lower_lim_).rename(colname)\n",
      "/tmp/ipykernel_129/3007604029.py:18: FutureWarning: The series.append method is deprecated and will be removed from pandas in a future version. Use pandas.concat instead.\n",
      "  porcentaje = porcentaje.append(upper_lim_).rename(colname)\n",
      "/tmp/ipykernel_129/3007604029.py:21: FutureWarning: The frame.append method is deprecated and will be removed from pandas in a future version. Use pandas.concat instead.\n",
      "  outliers_df3 = outliers_df.append(porcentaje,ignore_index=False)\n",
      "/tmp/ipykernel_129/3007604029.py:17: FutureWarning: The series.append method is deprecated and will be removed from pandas in a future version. Use pandas.concat instead.\n",
      "  porcentaje = porcentaje.append(lower_lim_).rename(colname)\n",
      "/tmp/ipykernel_129/3007604029.py:18: FutureWarning: The series.append method is deprecated and will be removed from pandas in a future version. Use pandas.concat instead.\n",
      "  porcentaje = porcentaje.append(upper_lim_).rename(colname)\n",
      "/tmp/ipykernel_129/3007604029.py:21: FutureWarning: The frame.append method is deprecated and will be removed from pandas in a future version. Use pandas.concat instead.\n",
      "  outliers_df3 = outliers_df.append(porcentaje,ignore_index=False)\n",
      "/tmp/ipykernel_129/3007604029.py:17: FutureWarning: The series.append method is deprecated and will be removed from pandas in a future version. Use pandas.concat instead.\n",
      "  porcentaje = porcentaje.append(lower_lim_).rename(colname)\n",
      "/tmp/ipykernel_129/3007604029.py:18: FutureWarning: The series.append method is deprecated and will be removed from pandas in a future version. Use pandas.concat instead.\n",
      "  porcentaje = porcentaje.append(upper_lim_).rename(colname)\n",
      "/tmp/ipykernel_129/3007604029.py:21: FutureWarning: The frame.append method is deprecated and will be removed from pandas in a future version. Use pandas.concat instead.\n",
      "  outliers_df3 = outliers_df.append(porcentaje,ignore_index=False)\n",
      "/tmp/ipykernel_129/3007604029.py:17: FutureWarning: The series.append method is deprecated and will be removed from pandas in a future version. Use pandas.concat instead.\n",
      "  porcentaje = porcentaje.append(lower_lim_).rename(colname)\n",
      "/tmp/ipykernel_129/3007604029.py:18: FutureWarning: The series.append method is deprecated and will be removed from pandas in a future version. Use pandas.concat instead.\n",
      "  porcentaje = porcentaje.append(upper_lim_).rename(colname)\n",
      "/tmp/ipykernel_129/3007604029.py:21: FutureWarning: The frame.append method is deprecated and will be removed from pandas in a future version. Use pandas.concat instead.\n",
      "  outliers_df3 = outliers_df.append(porcentaje,ignore_index=False)\n"
     ]
    }
   ],
   "source": [
    "\n",
    "for x in rango:\n",
    "    \n",
    "    colname = df.columns[x]\n",
    "    print(colname)\n",
    "    Q1 = df[colname].quantile(0.25)\n",
    "    Q3 = df[colname].quantile(0.75)\n",
    "    IQR = Q3 - Q1\n",
    "    lower_lim = Q1 - 3 * IQR\n",
    "    upper_lim = Q3 + 3 * IQR\n",
    "    df['outlier'] = df.apply(f, axis=1)\n",
    "    \n",
    "\n",
    "    porcentaje =df['outlier'].value_counts(normalize=True).rename(colname)\n",
    "\n",
    "    lower_lim_ = pd.Series({\"lower_lim\":lower_lim}).rename(colname)\n",
    "    upper_lim_ = pd.Series({\"upper_lim\":upper_lim}).rename(colname)\n",
    "    porcentaje = porcentaje.append(lower_lim_).rename(colname)\n",
    "    porcentaje = porcentaje.append(upper_lim_).rename(colname)\n",
    "\n",
    "   # print(porcentaje)\n",
    "    outliers_df3 = outliers_df.append(porcentaje,ignore_index=False) \n",
    "    #print(outliers_df)\n"
   ]
  },
  {
   "cell_type": "code",
   "execution_count": null,
   "id": "d6eb5476-ca7a-4908-ac75-a8a4d60fc4c7",
   "metadata": {},
   "outputs": [],
   "source": [
    "#import numpy as np\n",
    "#import matplotlib.pyplot as plt\n",
    "\n",
    "x = np.random.rand(100)\n",
    "y = np.random.rand(100)\n",
    "t = np.arange(100)\n",
    "\n",
    "plt.scatter(x, y, c=t)\n",
    "plt.show()"
   ]
  },
  {
   "cell_type": "code",
   "execution_count": 32,
   "id": "dcfec9de-cdf7-4c94-94df-90a3150f6bc3",
   "metadata": {
    "tags": []
   },
   "outputs": [
    {
     "ename": "SyntaxError",
     "evalue": "invalid syntax (1405300083.py, line 1)",
     "output_type": "error",
     "traceback": [
      "\u001b[0;36m  Cell \u001b[0;32mIn[32], line 1\u001b[0;36m\u001b[0m\n\u001b[0;31m    df[(df.\"Temperatura_(C)\">IQR)] # entre corchetes la condicion  el o es |\u001b[0m\n\u001b[0m           ^\u001b[0m\n\u001b[0;31mSyntaxError\u001b[0m\u001b[0;31m:\u001b[0m invalid syntax\n"
     ]
    }
   ],
   "source": [
    "\n",
    "    Q1 = df[\"Temperatura_(C)\"].quantile(0.25)\n",
    "    Q3 = df[\"Temperatura_(C)\"].quantile(0.75)\n",
    "    IQR = Q3 - Q1\n",
    "    lower_lim = Q1 - 1.5 * IQR\n",
    "    upper_lim = Q3 + 1.5 * IQR\n",
    "    df['outlier'] = df.apply(f, axis=1)\n",
    "\n",
    "    df_map[\"category\"]=df[df['\"Temperatura_(C)\"']>IQR].iloc[:,2].drop_duplicates()\n",
    "df[(df.\"Temperatura_(C)\">IQR)] # entre corchetes la condicion  el o es |"
   ]
  },
  {
   "cell_type": "code",
   "execution_count": 30,
   "id": "ff919900-dfe7-4512-b5d3-0e0c34a4b53c",
   "metadata": {
    "tags": []
   },
   "outputs": [
    {
     "data": {
      "text/html": [
       "<div>\n",
       "<style scoped>\n",
       "    .dataframe tbody tr th:only-of-type {\n",
       "        vertical-align: middle;\n",
       "    }\n",
       "\n",
       "    .dataframe tbody tr th {\n",
       "        vertical-align: top;\n",
       "    }\n",
       "\n",
       "    .dataframe thead th {\n",
       "        text-align: right;\n",
       "    }\n",
       "</style>\n",
       "<table border=\"1\" class=\"dataframe\">\n",
       "  <thead>\n",
       "    <tr style=\"text-align: right;\">\n",
       "      <th></th>\n",
       "      <th>Unnamed: 0.1</th>\n",
       "      <th>Unnamed: 0</th>\n",
       "      <th>Estacion</th>\n",
       "      <th>mes</th>\n",
       "      <th>lat</th>\n",
       "      <th>long</th>\n",
       "      <th>Altura_(m)</th>\n",
       "      <th>Numero</th>\n",
       "      <th>Temperatura_(C)</th>\n",
       "      <th>Temperatura_maxima_(C)</th>\n",
       "      <th>Temperatura_minima_(C)</th>\n",
       "      <th>Humedad_relativa_(%)</th>\n",
       "      <th>Velocidad_del_Viento_(km/h)</th>\n",
       "      <th>Nubosidad_total_(octavos)</th>\n",
       "      <th>Precipitacion_(mm)</th>\n",
       "      <th>Frecuencia_dias_Precipitacion_&gt;0.1_mm</th>\n",
       "      <th>outlier</th>\n",
       "    </tr>\n",
       "  </thead>\n",
       "  <tbody>\n",
       "    <tr>\n",
       "      <th>0</th>\n",
       "      <td>0</td>\n",
       "      <td>0</td>\n",
       "      <td>LA QUIACA</td>\n",
       "      <td>ene</td>\n",
       "      <td>-12.0</td>\n",
       "      <td>-63.333333</td>\n",
       "      <td>3459</td>\n",
       "      <td>87007</td>\n",
       "      <td>12.8</td>\n",
       "      <td>20.1</td>\n",
       "      <td>7.4</td>\n",
       "      <td>65.3</td>\n",
       "      <td>6.9</td>\n",
       "      <td>5.2</td>\n",
       "      <td>97.5</td>\n",
       "      <td>15.9</td>\n",
       "      <td>Sin Outliers</td>\n",
       "    </tr>\n",
       "    <tr>\n",
       "      <th>1</th>\n",
       "      <td>1</td>\n",
       "      <td>1</td>\n",
       "      <td>LA QUIACA</td>\n",
       "      <td>feb</td>\n",
       "      <td>-12.0</td>\n",
       "      <td>-63.333333</td>\n",
       "      <td>3459</td>\n",
       "      <td>87007</td>\n",
       "      <td>12.5</td>\n",
       "      <td>19.9</td>\n",
       "      <td>7.0</td>\n",
       "      <td>64.1</td>\n",
       "      <td>7.1</td>\n",
       "      <td>4.8</td>\n",
       "      <td>68.4</td>\n",
       "      <td>12.2</td>\n",
       "      <td>Sin Outliers</td>\n",
       "    </tr>\n",
       "    <tr>\n",
       "      <th>2</th>\n",
       "      <td>2</td>\n",
       "      <td>2</td>\n",
       "      <td>LA QUIACA</td>\n",
       "      <td>mar</td>\n",
       "      <td>-12.0</td>\n",
       "      <td>-63.333333</td>\n",
       "      <td>3459</td>\n",
       "      <td>87007</td>\n",
       "      <td>12.4</td>\n",
       "      <td>19.9</td>\n",
       "      <td>6.3</td>\n",
       "      <td>62.4</td>\n",
       "      <td>6.5</td>\n",
       "      <td>4.1</td>\n",
       "      <td>55.9</td>\n",
       "      <td>9.8</td>\n",
       "      <td>Sin Outliers</td>\n",
       "    </tr>\n",
       "    <tr>\n",
       "      <th>3</th>\n",
       "      <td>3</td>\n",
       "      <td>3</td>\n",
       "      <td>LA QUIACA</td>\n",
       "      <td>abril</td>\n",
       "      <td>-12.0</td>\n",
       "      <td>-63.333333</td>\n",
       "      <td>3459</td>\n",
       "      <td>87007</td>\n",
       "      <td>10.9</td>\n",
       "      <td>19.7</td>\n",
       "      <td>2.8</td>\n",
       "      <td>48.2</td>\n",
       "      <td>6.4</td>\n",
       "      <td>2.7</td>\n",
       "      <td>8.2</td>\n",
       "      <td>2.4</td>\n",
       "      <td>Sin Outliers</td>\n",
       "    </tr>\n",
       "    <tr>\n",
       "      <th>4</th>\n",
       "      <td>4</td>\n",
       "      <td>4</td>\n",
       "      <td>LA QUIACA</td>\n",
       "      <td>mayo</td>\n",
       "      <td>-12.0</td>\n",
       "      <td>-63.333333</td>\n",
       "      <td>3459</td>\n",
       "      <td>87007</td>\n",
       "      <td>6.9</td>\n",
       "      <td>17.3</td>\n",
       "      <td>-3.0</td>\n",
       "      <td>34.6</td>\n",
       "      <td>6.0</td>\n",
       "      <td>1.8</td>\n",
       "      <td>1.0</td>\n",
       "      <td>0.3</td>\n",
       "      <td>Sin Outliers</td>\n",
       "    </tr>\n",
       "    <tr>\n",
       "      <th>...</th>\n",
       "      <td>...</td>\n",
       "      <td>...</td>\n",
       "      <td>...</td>\n",
       "      <td>...</td>\n",
       "      <td>...</td>\n",
       "      <td>...</td>\n",
       "      <td>...</td>\n",
       "      <td>...</td>\n",
       "      <td>...</td>\n",
       "      <td>...</td>\n",
       "      <td>...</td>\n",
       "      <td>...</td>\n",
       "      <td>...</td>\n",
       "      <td>...</td>\n",
       "      <td>...</td>\n",
       "      <td>...</td>\n",
       "      <td>...</td>\n",
       "    </tr>\n",
       "    <tr>\n",
       "      <th>835</th>\n",
       "      <td>835</td>\n",
       "      <td>847</td>\n",
       "      <td>BASE SAN MARTIN</td>\n",
       "      <td>ago</td>\n",
       "      <td>-60.5</td>\n",
       "      <td>-59.500000</td>\n",
       "      <td>7</td>\n",
       "      <td>89066</td>\n",
       "      <td>-11.5</td>\n",
       "      <td>-6.9</td>\n",
       "      <td>-16.8</td>\n",
       "      <td>0.0</td>\n",
       "      <td>18.9</td>\n",
       "      <td>5.9</td>\n",
       "      <td>0.0</td>\n",
       "      <td>0.0</td>\n",
       "      <td>Sin Outliers</td>\n",
       "    </tr>\n",
       "    <tr>\n",
       "      <th>836</th>\n",
       "      <td>836</td>\n",
       "      <td>848</td>\n",
       "      <td>BASE SAN MARTIN</td>\n",
       "      <td>sep</td>\n",
       "      <td>-60.5</td>\n",
       "      <td>-59.500000</td>\n",
       "      <td>7</td>\n",
       "      <td>89066</td>\n",
       "      <td>-8.9</td>\n",
       "      <td>-4.6</td>\n",
       "      <td>-13.9</td>\n",
       "      <td>0.0</td>\n",
       "      <td>17.5</td>\n",
       "      <td>6.3</td>\n",
       "      <td>0.0</td>\n",
       "      <td>0.0</td>\n",
       "      <td>Sin Outliers</td>\n",
       "    </tr>\n",
       "    <tr>\n",
       "      <th>837</th>\n",
       "      <td>837</td>\n",
       "      <td>849</td>\n",
       "      <td>BASE SAN MARTIN</td>\n",
       "      <td>oct</td>\n",
       "      <td>-60.5</td>\n",
       "      <td>-59.500000</td>\n",
       "      <td>7</td>\n",
       "      <td>89066</td>\n",
       "      <td>-5.9</td>\n",
       "      <td>-2.1</td>\n",
       "      <td>-10.2</td>\n",
       "      <td>0.0</td>\n",
       "      <td>20.3</td>\n",
       "      <td>6.4</td>\n",
       "      <td>0.0</td>\n",
       "      <td>0.0</td>\n",
       "      <td>Sin Outliers</td>\n",
       "    </tr>\n",
       "    <tr>\n",
       "      <th>838</th>\n",
       "      <td>838</td>\n",
       "      <td>850</td>\n",
       "      <td>BASE SAN MARTIN</td>\n",
       "      <td>nov</td>\n",
       "      <td>-60.5</td>\n",
       "      <td>-59.500000</td>\n",
       "      <td>7</td>\n",
       "      <td>89066</td>\n",
       "      <td>-2.0</td>\n",
       "      <td>1.2</td>\n",
       "      <td>-5.5</td>\n",
       "      <td>0.0</td>\n",
       "      <td>19.2</td>\n",
       "      <td>6.4</td>\n",
       "      <td>0.0</td>\n",
       "      <td>0.0</td>\n",
       "      <td>Sin Outliers</td>\n",
       "    </tr>\n",
       "    <tr>\n",
       "      <th>839</th>\n",
       "      <td>839</td>\n",
       "      <td>851</td>\n",
       "      <td>BASE SAN MARTIN</td>\n",
       "      <td>dic</td>\n",
       "      <td>-60.5</td>\n",
       "      <td>-59.500000</td>\n",
       "      <td>7</td>\n",
       "      <td>89066</td>\n",
       "      <td>0.8</td>\n",
       "      <td>3.4</td>\n",
       "      <td>-1.8</td>\n",
       "      <td>0.0</td>\n",
       "      <td>18.3</td>\n",
       "      <td>6.2</td>\n",
       "      <td>0.0</td>\n",
       "      <td>0.0</td>\n",
       "      <td>Sin Outliers</td>\n",
       "    </tr>\n",
       "  </tbody>\n",
       "</table>\n",
       "<p>840 rows × 17 columns</p>\n",
       "</div>"
      ],
      "text/plain": [
       "     Unnamed: 0.1  Unnamed: 0         Estacion    mes   lat       long  \\\n",
       "0               0           0        LA QUIACA    ene -12.0 -63.333333   \n",
       "1               1           1        LA QUIACA    feb -12.0 -63.333333   \n",
       "2               2           2        LA QUIACA    mar -12.0 -63.333333   \n",
       "3               3           3        LA QUIACA  abril -12.0 -63.333333   \n",
       "4               4           4        LA QUIACA   mayo -12.0 -63.333333   \n",
       "..            ...         ...              ...    ...   ...        ...   \n",
       "835           835         847  BASE SAN MARTIN    ago -60.5 -59.500000   \n",
       "836           836         848  BASE SAN MARTIN    sep -60.5 -59.500000   \n",
       "837           837         849  BASE SAN MARTIN    oct -60.5 -59.500000   \n",
       "838           838         850  BASE SAN MARTIN    nov -60.5 -59.500000   \n",
       "839           839         851  BASE SAN MARTIN    dic -60.5 -59.500000   \n",
       "\n",
       "     Altura_(m)  Numero  Temperatura_(C)  Temperatura_maxima_(C)  \\\n",
       "0          3459   87007             12.8                    20.1   \n",
       "1          3459   87007             12.5                    19.9   \n",
       "2          3459   87007             12.4                    19.9   \n",
       "3          3459   87007             10.9                    19.7   \n",
       "4          3459   87007              6.9                    17.3   \n",
       "..          ...     ...              ...                     ...   \n",
       "835           7   89066            -11.5                    -6.9   \n",
       "836           7   89066             -8.9                    -4.6   \n",
       "837           7   89066             -5.9                    -2.1   \n",
       "838           7   89066             -2.0                     1.2   \n",
       "839           7   89066              0.8                     3.4   \n",
       "\n",
       "     Temperatura_minima_(C)  Humedad_relativa_(%)  \\\n",
       "0                       7.4                  65.3   \n",
       "1                       7.0                  64.1   \n",
       "2                       6.3                  62.4   \n",
       "3                       2.8                  48.2   \n",
       "4                      -3.0                  34.6   \n",
       "..                      ...                   ...   \n",
       "835                   -16.8                   0.0   \n",
       "836                   -13.9                   0.0   \n",
       "837                   -10.2                   0.0   \n",
       "838                    -5.5                   0.0   \n",
       "839                    -1.8                   0.0   \n",
       "\n",
       "     Velocidad_del_Viento_(km/h)  Nubosidad_total_(octavos)  \\\n",
       "0                            6.9                        5.2   \n",
       "1                            7.1                        4.8   \n",
       "2                            6.5                        4.1   \n",
       "3                            6.4                        2.7   \n",
       "4                            6.0                        1.8   \n",
       "..                           ...                        ...   \n",
       "835                         18.9                        5.9   \n",
       "836                         17.5                        6.3   \n",
       "837                         20.3                        6.4   \n",
       "838                         19.2                        6.4   \n",
       "839                         18.3                        6.2   \n",
       "\n",
       "     Precipitacion_(mm)  Frecuencia_dias_Precipitacion_>0.1_mm       outlier  \n",
       "0                  97.5                                   15.9  Sin Outliers  \n",
       "1                  68.4                                   12.2  Sin Outliers  \n",
       "2                  55.9                                    9.8  Sin Outliers  \n",
       "3                   8.2                                    2.4  Sin Outliers  \n",
       "4                   1.0                                    0.3  Sin Outliers  \n",
       "..                  ...                                    ...           ...  \n",
       "835                 0.0                                    0.0  Sin Outliers  \n",
       "836                 0.0                                    0.0  Sin Outliers  \n",
       "837                 0.0                                    0.0  Sin Outliers  \n",
       "838                 0.0                                    0.0  Sin Outliers  \n",
       "839                 0.0                                    0.0  Sin Outliers  \n",
       "\n",
       "[840 rows x 17 columns]"
      ]
     },
     "execution_count": 30,
     "metadata": {},
     "output_type": "execute_result"
    }
   ],
   "source": [
    " df[(df.X>20) & (df.Y>20)] # entre corchetes la condicion  el o es |"
   ]
  },
  {
   "cell_type": "code",
   "execution_count": 29,
   "id": "a627ef45-4e41-41c3-8e60-ff14394c765a",
   "metadata": {
    "tags": []
   },
   "outputs": [],
   "source": [
    "y=df.lat\n",
    "x=df.long\n",
    "t=df[df[]"
   ]
  },
  {
   "cell_type": "code",
   "execution_count": 93,
   "id": "81d08b51-57f2-4bdd-bfa5-cf65820865ec",
   "metadata": {
    "tags": []
   },
   "outputs": [
    {
     "data": {
      "image/png": "[encoded data removed]",
      "text/plain": [
       "<Figure size 640x480 with 1 Axes>"
      ]
     },
     "metadata": {},
     "output_type": "display_data"
    }
   ],
   "source": [
    "#GRAFICOS BOXPLOt\n",
    "sns.boxplot(x= df[\"Humedad_relativa_(%)\"])\n",
    "plt.show()"
   ]
  },
  {
   "cell_type": "code",
   "execution_count": 81,
   "id": "0ec5dc23-4aea-4a6c-acf2-25c82ceac6b1",
   "metadata": {
    "tags": []
   },
   "outputs": [],
   "source": [
    "lower_lim\n",
    "df[\"Humedad_relativa_(%)\"] = np.where(df[\"Humedad_relativa_(%)\"] <lower_lim, df[\"Humedad_relativa_(%)\"].median(),df['Humedad_relativa_(%)'])"
   ]
  },
  {
   "cell_type": "code",
   "execution_count": 56,
   "id": "bd24a54d-55ba-4111-8ab0-7486049b65e0",
   "metadata": {
    "tags": []
   },
   "outputs": [
    {
     "data": {
      "text/plain": [
       "pandas.core.frame.DataFrame"
      ]
     },
     "execution_count": 56,
     "metadata": {},
     "output_type": "execute_result"
    }
   ],
   "source": [
    "type(result)"
   ]
  },
  {
   "cell_type": "code",
   "execution_count": null,
   "id": "5610726d-a161-447e-bfe8-bfdfe8982fd4",
   "metadata": {},
   "outputs": [],
   "source": [
    "#grouypby\n",
    "data.sort_values(by='neighbourhood_hosts').groupby('neighbourhood_hosts').agg({'maxPrice': max, 'minPrice':min})\n",
    "                     maxPrice  minPrice"
   ]
  },
  {
   "cell_type": "markdown",
   "id": "664bba70-5315-4fd8-865d-022b012f3911",
   "metadata": {
    "jp-MarkdownHeadingCollapsed": true,
    "jupyter": {
     "outputs_hidden": true
    },
    "tags": []
   },
   "source": [
    "\n",
    "                  \n",
    "# **Librerias utiles:**\n",
    "\n",
    "Pandas\n",
    "\n",
    "https://pandas.pydata.org/docs/getting_started/intro_tutorials/index.html#\n",
    "\n",
    "Numpy\n",
    "\n",
    "https://numpy.org/\n",
    "\n",
    "\n",
    "***"
   ]
  },
  {
   "cell_type": "markdown",
   "id": "60318768-4f37-43e2-bb5b-1d49256225d7",
   "metadata": {
    "tags": []
   },
   "source": [
    "# *2) Revisar la idea de Objetos\" en python a partir de ejemplos*\n",
    "\n",
    "Object-based programming languaje\n",
    "\n",
    "objeto (pd, plt, np, etc) luego del punto se desprenden funcionalidades asociadas a cada objeto\n",
    "\n",
    "***\n",
    "***\n",
    "# *3) manejor de tablas/arrays/vectores*\n",
    "\n",
    "Comentar comandos: head(), tail(), shape(), info(), loc[], iloc[], describe(),.values, columns,\n",
    "\n",
    "Comantar comandos de numpy\n",
    "\n",
    "***"
   ]
  },
  {
   "cell_type": "code",
   "execution_count": 14,
   "id": "854cc4b0-8f78-4826-9dd3-5344febac317",
   "metadata": {},
   "outputs": [
    {
     "data": {
      "text/plain": [
       "(     X   Y    Per    Por\n",
       " 54  32  34  77.00   9.77\n",
       " 55  34  40  88.00  14.03\n",
       " 56  36   3  73.50  11.29\n",
       " 57  39   8  75.00  15.32\n",
       " 58  37  15  69.50  12.92\n",
       " 59  40  17  57.00   8.86\n",
       " 60  39  23  58.00   9.32\n",
       " 61  40  27  81.00  13.72\n",
       " 62  37  31  80.00  13.11\n",
       " 63  40  36  15.09    NaN,\n",
       " (64, 4))"
      ]
     },
     "execution_count": 14,
     "metadata": {},
     "output_type": "execute_result"
    }
   ],
   "source": [
    "df.tail(10), df.shape"
   ]
  },
  {
   "cell_type": "code",
   "execution_count": 15,
   "id": "46328f60-f07d-4c1b-884c-fb301ca841eb",
   "metadata": {},
   "outputs": [
    {
     "data": {
      "text/plain": [
       "(64, 4)"
      ]
     },
     "execution_count": 15,
     "metadata": {},
     "output_type": "execute_result"
    }
   ],
   "source": [
    "df.shape"
   ]
  },
  {
   "cell_type": "code",
   "execution_count": null,
   "id": "3d9b3035-4f2b-4bb0-b21d-6a1fa8e240ef",
   "metadata": {},
   "outputs": [],
   "source": []
  },
  {
   "cell_type": "markdown",
   "id": "67db5a05-ba41-4d9d-90a6-2ef3ff9f57a3",
   "metadata": {},
   "source": [
    "***\n",
    "# *4) loops*\n",
    "\n",
    "for ... in ...:\n",
    "\n",
    "    itera sobre lo que uno quiera\n",
    "    \n",
    "    \n",
    "Sobre què se puede iterar??\n",
    "\n",
    " \n",
    " a- lista\n",
    " \n",
    " b- columnas de una tabla\n",
    " \n",
    " c- palabras de una oracion\n",
    " \n",
    " "
   ]
  },
  {
   "cell_type": "code",
   "execution_count": 26,
   "id": "e8cb8a97-fada-40c9-89ec-c4eb94d5930e",
   "metadata": {
    "collapsed": true,
    "jupyter": {
     "outputs_hidden": true
    },
    "tags": []
   },
   "outputs": [
    {
     "name": "stdout",
     "output_type": "stream",
     "text": [
      "X       4.00\n",
      "Y       3.00\n",
      "Per    50.50\n",
      "Por     5.67\n",
      "Name: 0, dtype: float64\n",
      "X       3.00\n",
      "Y      10.00\n",
      "Per    46.00\n",
      "Por     7.65\n",
      "Name: 1, dtype: float64\n",
      "X       1.00\n",
      "Y      14.00\n",
      "Per    26.50\n",
      "Por     7.11\n",
      "Name: 2, dtype: float64\n",
      "X       4.00\n",
      "Y      17.00\n",
      "Per    21.00\n",
      "Por     4.76\n",
      "Name: 3, dtype: float64\n",
      "X       2.0\n",
      "Y      25.0\n",
      "Per    47.0\n",
      "Por     9.7\n",
      "Name: 4, dtype: float64\n",
      "X       3.00\n",
      "Y      30.00\n",
      "Per    48.00\n",
      "Por     8.41\n",
      "Name: 5, dtype: float64\n",
      "X       4.00\n",
      "Y      35.00\n",
      "Per    62.00\n",
      "Por    12.35\n",
      "Name: 6, dtype: float64\n",
      "X       3.00\n",
      "Y      40.00\n",
      "Per    61.00\n",
      "Por    10.84\n",
      "Name: 7, dtype: float64\n",
      "X       9.00\n",
      "Y       3.00\n",
      "Per    34.50\n",
      "Por     7.04\n",
      "Name: 8, dtype: float64\n",
      "X      10.00\n",
      "Y       7.00\n",
      "Per    43.50\n",
      "Por     8.18\n",
      "Name: 9, dtype: float64\n",
      "X       9.00\n",
      "Y      11.00\n",
      "Per    65.00\n",
      "Por     9.32\n",
      "Name: 10, dtype: float64\n",
      "X       6.00\n",
      "Y      17.00\n",
      "Per    27.00\n",
      "Por     6.13\n",
      "Name: 11, dtype: float64\n",
      "X       7.00\n",
      "Y      24.00\n",
      "Per    24.00\n",
      "Por     9.16\n",
      "Name: 12, dtype: float64\n",
      "X       9.00\n",
      "Y      27.00\n",
      "Per    40.00\n",
      "Por     8.71\n",
      "Name: 13, dtype: float64\n",
      "X       9.00\n",
      "Y      35.00\n",
      "Per    58.00\n",
      "Por    10.84\n",
      "Name: 14, dtype: float64\n",
      "X       6.00\n",
      "Y      40.00\n",
      "Per    53.00\n",
      "Por    10.08\n",
      "Name: 15, dtype: float64\n",
      "X      13.0\n",
      "Y       5.0\n",
      "Per    55.0\n",
      "Por    11.9\n",
      "Name: 16, dtype: float64\n",
      "X      13.00\n",
      "Y       8.00\n",
      "Per    67.00\n",
      "Por     8.41\n",
      "Name: 17, dtype: float64\n",
      "X      15.00\n",
      "Y      13.00\n",
      "Per    22.00\n",
      "Por     5.75\n",
      "Name: 18, dtype: float64\n",
      "X      12.00\n",
      "Y      16.00\n",
      "Per    66.50\n",
      "Por     4.68\n",
      "Name: 19, dtype: float64\n",
      "X      12.00\n",
      "Y      24.00\n",
      "Per    59.00\n",
      "Por    10.68\n",
      "Name: 20, dtype: float64\n",
      "X      11.00\n",
      "Y      30.00\n",
      "Per    45.00\n",
      "Por    11.59\n",
      "Name: 21, dtype: float64\n",
      "X      14.00\n",
      "Y      32.00\n",
      "Per    67.00\n",
      "Por    10.91\n",
      "Name: 22, dtype: float64\n",
      "X      15.00\n",
      "Y      40.00\n",
      "Per    45.00\n",
      "Por     8.86\n",
      "Name: 23, dtype: float64\n",
      "X      20.0\n",
      "Y       3.0\n",
      "Per    70.0\n",
      "Por    12.2\n",
      "Name: 24, dtype: float64\n",
      "X      20.00\n",
      "Y       6.00\n",
      "Per    47.00\n",
      "Por     8.71\n",
      "Name: 25, dtype: float64\n",
      "X      16.00\n",
      "Y      11.00\n",
      "Per    45.00\n",
      "Por     7.19\n",
      "Name: 26, dtype: float64\n",
      "X      16.00\n",
      "Y      17.00\n",
      "Per    56.50\n",
      "Por     8.71\n",
      "Name: 27, dtype: float64\n",
      "X      17.0\n",
      "Y      24.0\n",
      "Per    61.0\n",
      "Por    10.0\n",
      "Name: 28, dtype: float64\n",
      "X      18.00\n",
      "Y      28.00\n",
      "Per    54.00\n",
      "Por    10.68\n",
      "Name: 29, dtype: float64\n",
      "X      16.00\n",
      "Y      32.00\n",
      "Per    45.00\n",
      "Por     9.62\n",
      "Name: 30, dtype: float64\n",
      "X      18.00\n",
      "Y      37.00\n",
      "Per    52.00\n",
      "Por     9.47\n",
      "Name: 31, dtype: float64\n",
      "X      24.00\n",
      "Y       4.00\n",
      "Per    35.50\n",
      "Por     5.97\n",
      "Name: 32, dtype: float64\n",
      "X      25.00\n",
      "Y       6.00\n",
      "Per    23.50\n",
      "Por     7.49\n",
      "Name: 33, dtype: float64\n",
      "X      23.00\n",
      "Y      13.00\n",
      "Per    45.00\n",
      "Por     8.41\n",
      "Name: 34, dtype: float64\n",
      "X      23.00\n",
      "Y      18.00\n",
      "Per    49.50\n",
      "Por     9.09\n",
      "Name: 35, dtype: float64\n",
      "X      23.00\n",
      "Y      24.00\n",
      "Per    50.00\n",
      "Por     9.16\n",
      "Name: 36, dtype: float64\n",
      "X      21.00\n",
      "Y      29.00\n",
      "Per    49.00\n",
      "Por     9.16\n",
      "Name: 37, dtype: float64\n",
      "X      24.00\n",
      "Y      31.00\n",
      "Per    45.00\n",
      "Por     8.94\n",
      "Name: 38, dtype: float64\n",
      "X      21.00\n",
      "Y      38.00\n",
      "Per    65.00\n",
      "Por     9.92\n",
      "Name: 39, dtype: float64\n",
      "X      29.00\n",
      "Y       5.00\n",
      "Per    51.00\n",
      "Por     9.32\n",
      "Name: 40, dtype: float64\n",
      "X      26.00\n",
      "Y       7.00\n",
      "Per    60.00\n",
      "Por     6.05\n",
      "Name: 41, dtype: float64\n",
      "X      30.00\n",
      "Y      14.00\n",
      "Per    74.50\n",
      "Por    12.89\n",
      "Name: 42, dtype: float64\n",
      "X      27.00\n",
      "Y      16.00\n",
      "Per    56.00\n",
      "Por    11.44\n",
      "Name: 43, dtype: float64\n",
      "X      29.00\n",
      "Y      23.00\n",
      "Per    47.50\n",
      "Por    11.37\n",
      "Name: 44, dtype: float64\n",
      "X      27.00\n",
      "Y      27.00\n",
      "Per    62.50\n",
      "Por     9.01\n",
      "Name: 45, dtype: float64\n",
      "X      29.00\n",
      "Y      31.00\n",
      "Per    45.00\n",
      "Por     7.95\n",
      "Name: 46, dtype: float64\n",
      "X      29.00\n",
      "Y      39.00\n",
      "Per    86.00\n",
      "Por    15.09\n",
      "Name: 47, dtype: float64\n",
      "X      31.00\n",
      "Y       5.00\n",
      "Per    85.00\n",
      "Por     5.22\n",
      "Name: 48, dtype: float64\n",
      "X      31.00\n",
      "Y       6.00\n",
      "Per    74.00\n",
      "Por    11.14\n",
      "Name: 49, dtype: float64\n",
      "X      33.00\n",
      "Y      11.00\n",
      "Per    76.00\n",
      "Por    13.11\n",
      "Name: 50, dtype: float64\n",
      "X      31.00\n",
      "Y      18.00\n",
      "Per    68.50\n",
      "Por    10.08\n",
      "Name: 51, dtype: float64\n",
      "X      33.00\n",
      "Y      21.00\n",
      "Per    52.00\n",
      "Por     9.47\n",
      "Name: 52, dtype: float64\n",
      "X      34.00\n",
      "Y      28.00\n",
      "Per    73.00\n",
      "Por     7.04\n",
      "Name: 53, dtype: float64\n",
      "X      32.00\n",
      "Y      34.00\n",
      "Per    77.00\n",
      "Por     9.77\n",
      "Name: 54, dtype: float64\n",
      "X      34.00\n",
      "Y      40.00\n",
      "Per    88.00\n",
      "Por    14.03\n",
      "Name: 55, dtype: float64\n",
      "X      36.00\n",
      "Y       3.00\n",
      "Per    73.50\n",
      "Por    11.29\n",
      "Name: 56, dtype: float64\n",
      "X      39.00\n",
      "Y       8.00\n",
      "Per    75.00\n",
      "Por    15.32\n",
      "Name: 57, dtype: float64\n",
      "X      37.00\n",
      "Y      15.00\n",
      "Per    69.50\n",
      "Por    12.92\n",
      "Name: 58, dtype: float64\n",
      "X      40.00\n",
      "Y      17.00\n",
      "Per    57.00\n",
      "Por     8.86\n",
      "Name: 59, dtype: float64\n",
      "X      39.00\n",
      "Y      23.00\n",
      "Per    58.00\n",
      "Por     9.32\n",
      "Name: 60, dtype: float64\n",
      "X      40.00\n",
      "Y      27.00\n",
      "Per    81.00\n",
      "Por    13.72\n",
      "Name: 61, dtype: float64\n",
      "X      37.00\n",
      "Y      31.00\n",
      "Per    80.00\n",
      "Por    13.11\n",
      "Name: 62, dtype: float64\n",
      "X      40.00\n",
      "Y      36.00\n",
      "Per    15.09\n",
      "Por      NaN\n",
      "Name: 63, dtype: float64\n"
     ]
    }
   ],
   "source": [
    "#        Descomantar a medida que avanzamos con la explicacion\n",
    "#·--------------------------------------------------------------------\n",
    "# df.columns   # esto es una lista con nombres\n",
    "\n",
    "#·--------------------------------------------------------------------\n",
    "# iteramos sobre la lista:\n",
    "\n",
    "#for col in df.columns:\n",
    "#    print(col)\n",
    "\n",
    "#·--------------------------------------------------------------------\n",
    "# iteramos sobre las columnas:\n",
    "#for col in df.columns:\n",
    "#    print(df[col])\n",
    "  \n",
    "#·--------------------------------------------------------------------    \n",
    "# iteramos sobre las filas:\n",
    "    \n",
    "#for rows in df.iloc:\n",
    "#    print(rows)   \n",
    "\n",
    "# iteramos sobre oraciones:\n",
    "    \n",
    "#oracion= \" Mañana va a estar nubleado, por eso no voy a ir a clase\"\n",
    "#oracion[0]\n",
    "#for palabra in oracion:\n",
    "#    print(palabra)"
   ]
  },
  {
   "cell_type": "markdown",
   "id": "a0060dae-6997-4f0c-8275-34d4c9ca6831",
   "metadata": {
    "tags": []
   },
   "source": [
    "***\n",
    "# *5) Graficos:*\n",
    "    \n",
    "https://matplotlib.org/\n",
    "\n",
    "***"
   ]
  },
  {
   "cell_type": "code",
   "execution_count": 27,
   "id": "131d98c0-fef5-44ba-9328-1dd559035b64",
   "metadata": {},
   "outputs": [
    {
     "data": {
      "text/plain": [
       "Index(['X', 'Y', 'Per', 'Por'], dtype='object')"
      ]
     },
     "execution_count": 27,
     "metadata": {},
     "output_type": "execute_result"
    }
   ],
   "source": [
    "df.columns"
   ]
  },
  {
   "cell_type": "code",
   "execution_count": 28,
   "id": "09e78390-a358-4014-afa4-2e5f777f37a3",
   "metadata": {},
   "outputs": [
    {
     "data": {
      "text/plain": [
       "{'whiskers': [<matplotlib.lines.Line2D at 0x7f9ef7dd8490>,\n",
       "  <matplotlib.lines.Line2D at 0x7f9ef7694670>],\n",
       " 'caps': [<matplotlib.lines.Line2D at 0x7f9ef7b839d0>,\n",
       "  <matplotlib.lines.Line2D at 0x7f9ef7e8de80>],\n",
       " 'boxes': [<matplotlib.lines.Line2D at 0x7f9ef7dd8850>],\n",
       " 'medians': [<matplotlib.lines.Line2D at 0x7f9ef7e8ddf0>],\n",
       " 'fliers': [<matplotlib.lines.Line2D at 0x7f9ef7e8d160>],\n",
       " 'means': []}"
      ]
     },
     "execution_count": 28,
     "metadata": {},
     "output_type": "execute_result"
    },
    {
     "data": {
      "image/png": "[encoded data removed]",
      "text/plain": [
       "<Figure size 432x288 with 1 Axes>"
      ]
     },
     "metadata": {
      "needs_background": "light"
     },
     "output_type": "display_data"
    }
   ],
   "source": [
    "#ejemplo: df.Per  #  df.Per.values\n",
    "\n",
    "plt.boxplot(df.Per)\n",
    "#plt.hist()\n",
    "#plt.scatter()\n",
    "#plt.bar()\n",
    "\n",
    "\n",
    "#"
   ]
  },
  {
   "cell_type": "markdown",
   "id": "4a115242-b3e6-4af0-b084-07e4ef32f9ce",
   "metadata": {},
   "source": [
    "***\n",
    "# *6) guardado de la informacion (tablas, graficos, modelos)*\n",
    "\n",
    "***"
   ]
  },
  {
   "cell_type": "code",
   "execution_count": 38,
   "id": "7e63d858-99aa-4a91-9621-c723b9c3e4be",
   "metadata": {},
   "outputs": [
    {
     "ename": "TypeError",
     "evalue": "to_excel() missing 1 required positional argument: 'excel_writer'",
     "output_type": "error",
     "traceback": [
      "\u001b[0;31m---------------------------------------------------------------------------\u001b[0m",
      "\u001b[0;31mTypeError\u001b[0m                                 Traceback (most recent call last)",
      "\u001b[0;32m/tmp/ipykernel_1216212/1387030745.py\u001b[0m in \u001b[0;36m<module>\u001b[0;34m\u001b[0m\n\u001b[1;32m      1\u001b[0m \u001b[0mdf\u001b[0m\u001b[0;34m.\u001b[0m\u001b[0mto_csv\u001b[0m\u001b[0;34m(\u001b[0m\u001b[0;34m)\u001b[0m\u001b[0;34m\u001b[0m\u001b[0;34m\u001b[0m\u001b[0m\n\u001b[0;32m----> 2\u001b[0;31m \u001b[0mdf\u001b[0m\u001b[0;34m.\u001b[0m\u001b[0mto_excel\u001b[0m\u001b[0;34m(\u001b[0m\u001b[0;34m)\u001b[0m\u001b[0;34m\u001b[0m\u001b[0;34m\u001b[0m\u001b[0m\n\u001b[0m\u001b[1;32m      3\u001b[0m \u001b[0;34m\u001b[0m\u001b[0m\n\u001b[1;32m      4\u001b[0m \u001b[0;31m# GUardamos figuras *******\u001b[0m\u001b[0;34m\u001b[0m\u001b[0;34m\u001b[0m\u001b[0m\n\u001b[1;32m      5\u001b[0m \u001b[0;34m\u001b[0m\u001b[0m\n",
      "\u001b[0;31mTypeError\u001b[0m: to_excel() missing 1 required positional argument: 'excel_writer'"
     ]
    }
   ],
   "source": [
    "df.to_csv(...)\n",
    "df.to_excel(...)\n",
    "\n",
    "# GUardamos figuras *******\n",
    "\n",
    "plt.savefig('foo.png', bbox_inches='tight')"
   ]
  },
  {
   "cell_type": "markdown",
   "id": "96d6fdd9-2062-4139-bb27-3d87e753b878",
   "metadata": {},
   "source": [
    "***\n",
    "\n",
    "# *7) Armado de una funciòn*\n",
    "\n",
    "\n",
    "def funcion(...):\n",
    "\n",
    "    ...\n",
    "    \n",
    "    ...\n",
    "    \n",
    "    return ...\n",
    "    \n",
    "  ***"
   ]
  },
  {
   "cell_type": "markdown",
   "id": "39366b28-68ac-4b48-89a9-28b06daf8937",
   "metadata": {},
   "source": []
  }
 ],
 "metadata": {
  "kernelspec": {
   "display_name": "Python 3 (ipykernel)",
   "language": "python",
   "name": "python3"
  },
  "language_info": {
   "codemirror_mode": {
    "name": "ipython",
    "version": 3
   },
   "file_extension": ".py",
   "mimetype": "text/x-python",
   "name": "python",
   "nbconvert_exporter": "python",
   "pygments_lexer": "ipython3",
   "version": "3.10.10"
  }
 },
 "nbformat": 4,
 "nbformat_minor": 5
}
